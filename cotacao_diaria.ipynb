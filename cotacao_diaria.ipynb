{
 "cells": [
  {
   "cell_type": "code",
   "execution_count": 1,
   "metadata": {},
   "outputs": [],
   "source": [
    "import requests\n",
    "import pandas as pd\n",
    "%matplotlib inline\n",
    "token = 'YC05QBBCPWE32UZI'"
   ]
  },
  {
   "cell_type": "code",
   "execution_count": 3,
   "metadata": {},
   "outputs": [
    {
     "data": {
      "text/html": [
       "<div>\n",
       "<style scoped>\n",
       "    .dataframe tbody tr th:only-of-type {\n",
       "        vertical-align: middle;\n",
       "    }\n",
       "\n",
       "    .dataframe tbody tr th {\n",
       "        vertical-align: top;\n",
       "    }\n",
       "\n",
       "    .dataframe thead th {\n",
       "        text-align: right;\n",
       "    }\n",
       "</style>\n",
       "<table border=\"1\" class=\"dataframe\">\n",
       "  <thead>\n",
       "    <tr style=\"text-align: right;\">\n",
       "      <th></th>\n",
       "      <th>open</th>\n",
       "      <th>high</th>\n",
       "      <th>low</th>\n",
       "      <th>close</th>\n",
       "      <th>volume</th>\n",
       "    </tr>\n",
       "  </thead>\n",
       "  <tbody>\n",
       "    <tr>\n",
       "      <th>2014-08-06</th>\n",
       "      <td>1.95</td>\n",
       "      <td>2.03</td>\n",
       "      <td>1.95</td>\n",
       "      <td>2.03</td>\n",
       "      <td>4211</td>\n",
       "    </tr>\n",
       "    <tr>\n",
       "      <th>2014-08-07</th>\n",
       "      <td>2.03</td>\n",
       "      <td>2.03</td>\n",
       "      <td>2.03</td>\n",
       "      <td>2.03</td>\n",
       "      <td>795</td>\n",
       "    </tr>\n",
       "    <tr>\n",
       "      <th>2014-08-08</th>\n",
       "      <td>2.04</td>\n",
       "      <td>2.10</td>\n",
       "      <td>2.04</td>\n",
       "      <td>2.09</td>\n",
       "      <td>1378</td>\n",
       "    </tr>\n",
       "    <tr>\n",
       "      <th>2014-08-11</th>\n",
       "      <td>2.08</td>\n",
       "      <td>2.08</td>\n",
       "      <td>2.08</td>\n",
       "      <td>2.08</td>\n",
       "      <td>46</td>\n",
       "    </tr>\n",
       "    <tr>\n",
       "      <th>2014-08-12</th>\n",
       "      <td>2.07</td>\n",
       "      <td>2.07</td>\n",
       "      <td>2.05</td>\n",
       "      <td>2.05</td>\n",
       "      <td>745</td>\n",
       "    </tr>\n",
       "  </tbody>\n",
       "</table>\n",
       "</div>"
      ],
      "text/plain": [
       "            open  high   low  close  volume\n",
       "2014-08-06  1.95  2.03  1.95   2.03    4211\n",
       "2014-08-07  2.03  2.03  2.03   2.03     795\n",
       "2014-08-08  2.04  2.10  2.04   2.09    1378\n",
       "2014-08-11  2.08  2.08  2.08   2.08      46\n",
       "2014-08-12  2.07  2.07  2.05   2.05     745"
      ]
     },
     "execution_count": 3,
     "metadata": {},
     "output_type": "execute_result"
    }
   ],
   "source": [
    "#Cotação diária\n",
    "function = 'TIME_SERIES_DAILY'\n",
    "symbol = 'FLMA11.SA'\n",
    "outputsize = 'full'\n",
    "url = 'https://www.alphavantage.co/query?function=' + function + '&symbol=' + symbol + '&outputsize=' + outputsize + '&apikey=' + token\n",
    "resp = requests.get(url=url)\n",
    "data = resp.json()\n",
    "\n",
    "df = pd.DataFrame(data)\n",
    "df = df.drop(['Meta Data'], axis = 1).dropna()\n",
    "\n",
    "#Transforma string para lista\n",
    "df['Time Series'] = df['Time Series (Daily)'].apply(lambda x: str(x).strip(\"{}\").split(', '))\n",
    "\n",
    "#Transforma lista em colunas\n",
    "df[['open','high','low','close','volume']] = pd.DataFrame(df['Time Series'].values.tolist(), index = df.index)\n",
    "\n",
    "#Converte para números\n",
    "df.open = df.open.apply(lambda x: float(list(x.split(': '))[1].strip(\"''\")))\n",
    "df.high = df.high.apply(lambda x: float(list(x.split(': '))[1].strip(\"''\")))\n",
    "df.low = df.low.apply(lambda x: float(list(x.split(': '))[1].strip(\"''\")))\n",
    "df.close = df.close.apply(lambda x: float(list(x.split(': '))[1].strip(\"''\")))\n",
    "df.volume = df.volume.apply(lambda x: int(list(x.split(': '))[1].strip(\"''\")))\n",
    "\n",
    "#Remove colunas iniciais\n",
    "df = df.drop(['Time Series (Daily)','Time Series'], axis = 1)\n",
    "df.head()"
   ]
  },
  {
   "cell_type": "code",
   "execution_count": 9,
   "metadata": {},
   "outputs": [
    {
     "data": {
      "text/html": [
       "<div>\n",
       "<style scoped>\n",
       "    .dataframe tbody tr th:only-of-type {\n",
       "        vertical-align: middle;\n",
       "    }\n",
       "\n",
       "    .dataframe tbody tr th {\n",
       "        vertical-align: top;\n",
       "    }\n",
       "\n",
       "    .dataframe thead th {\n",
       "        text-align: right;\n",
       "    }\n",
       "</style>\n",
       "<table border=\"1\" class=\"dataframe\">\n",
       "  <thead>\n",
       "    <tr style=\"text-align: right;\">\n",
       "      <th></th>\n",
       "      <th>open</th>\n",
       "      <th>high</th>\n",
       "      <th>low</th>\n",
       "      <th>close</th>\n",
       "      <th>volume</th>\n",
       "    </tr>\n",
       "  </thead>\n",
       "  <tbody>\n",
       "    <tr>\n",
       "      <th>count</th>\n",
       "      <td>180.000000</td>\n",
       "      <td>180.000000</td>\n",
       "      <td>180.000000</td>\n",
       "      <td>180.000000</td>\n",
       "      <td>180.000000</td>\n",
       "    </tr>\n",
       "    <tr>\n",
       "      <th>mean</th>\n",
       "      <td>3.382556</td>\n",
       "      <td>3.416556</td>\n",
       "      <td>3.350167</td>\n",
       "      <td>3.389556</td>\n",
       "      <td>49772.583333</td>\n",
       "    </tr>\n",
       "    <tr>\n",
       "      <th>std</th>\n",
       "      <td>0.494392</td>\n",
       "      <td>0.500404</td>\n",
       "      <td>0.487666</td>\n",
       "      <td>0.493316</td>\n",
       "      <td>30246.253960</td>\n",
       "    </tr>\n",
       "    <tr>\n",
       "      <th>min</th>\n",
       "      <td>2.450000</td>\n",
       "      <td>2.500000</td>\n",
       "      <td>2.430000</td>\n",
       "      <td>2.440000</td>\n",
       "      <td>5820.000000</td>\n",
       "    </tr>\n",
       "    <tr>\n",
       "      <th>25%</th>\n",
       "      <td>2.960000</td>\n",
       "      <td>2.960000</td>\n",
       "      <td>2.937500</td>\n",
       "      <td>2.960000</td>\n",
       "      <td>27715.250000</td>\n",
       "    </tr>\n",
       "    <tr>\n",
       "      <th>50%</th>\n",
       "      <td>3.500000</td>\n",
       "      <td>3.540000</td>\n",
       "      <td>3.500000</td>\n",
       "      <td>3.505000</td>\n",
       "      <td>40326.000000</td>\n",
       "    </tr>\n",
       "    <tr>\n",
       "      <th>75%</th>\n",
       "      <td>3.650000</td>\n",
       "      <td>3.685000</td>\n",
       "      <td>3.622500</td>\n",
       "      <td>3.650000</td>\n",
       "      <td>65709.000000</td>\n",
       "    </tr>\n",
       "    <tr>\n",
       "      <th>max</th>\n",
       "      <td>4.300000</td>\n",
       "      <td>4.390000</td>\n",
       "      <td>4.260000</td>\n",
       "      <td>4.300000</td>\n",
       "      <td>162345.000000</td>\n",
       "    </tr>\n",
       "  </tbody>\n",
       "</table>\n",
       "</div>"
      ],
      "text/plain": [
       "             open        high         low       close         volume\n",
       "count  180.000000  180.000000  180.000000  180.000000     180.000000\n",
       "mean     3.382556    3.416556    3.350167    3.389556   49772.583333\n",
       "std      0.494392    0.500404    0.487666    0.493316   30246.253960\n",
       "min      2.450000    2.500000    2.430000    2.440000    5820.000000\n",
       "25%      2.960000    2.960000    2.937500    2.960000   27715.250000\n",
       "50%      3.500000    3.540000    3.500000    3.505000   40326.000000\n",
       "75%      3.650000    3.685000    3.622500    3.650000   65709.000000\n",
       "max      4.300000    4.390000    4.260000    4.300000  162345.000000"
      ]
     },
     "execution_count": 9,
     "metadata": {},
     "output_type": "execute_result"
    }
   ],
   "source": [
    "df.iloc[-180:].describe()"
   ]
  },
  {
   "cell_type": "code",
   "execution_count": 8,
   "metadata": {},
   "outputs": [
    {
     "data": {
      "text/plain": [
       "<matplotlib.axes._subplots.AxesSubplot at 0x7f2a4c7f5da0>"
      ]
     },
     "execution_count": 8,
     "metadata": {},
     "output_type": "execute_result"
    },
    {
     "data": {
      "image/png": "[encoded data removed]",
      "text/plain": [
       "<Figure size 432x288 with 1 Axes>"
      ]
     },
     "metadata": {
      "needs_background": "light"
     },
     "output_type": "display_data"
    }
   ],
   "source": [
    "df.iloc[-180:].close.plot.line()"
   ]
  },
  {
   "cell_type": "code",
   "execution_count": null,
   "metadata": {},
   "outputs": [],
   "source": []
  }
 ],
 "metadata": {
  "kernelspec": {
   "display_name": "Python 3",
   "language": "python",
   "name": "python3"
  },
  "language_info": {
   "codemirror_mode": {
    "name": "ipython",
    "version": 3
   },
   "file_extension": ".py",
   "mimetype": "text/x-python",
   "name": "python",
   "nbconvert_exporter": "python",
   "pygments_lexer": "ipython3",
   "version": "3.7.3"
  }
 },
 "nbformat": 4,
 "nbformat_minor": 2
}
