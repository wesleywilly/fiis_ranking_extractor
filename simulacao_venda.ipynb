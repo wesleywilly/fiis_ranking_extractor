{
 "cells": [
  {
   "cell_type": "code",
   "execution_count": 133,
   "metadata": {},
   "outputs": [],
   "source": [
    "import pandas"
   ]
  },
  {
   "cell_type": "code",
   "execution_count": 171,
   "metadata": {},
   "outputs": [],
   "source": [
    "carteira = 'Wesley'\n",
    "fundo = 'MGFF'\n",
    "\n",
    "dividendo = 0.70\n",
    "cotas = 39\n",
    "media_cota = 98.69\n",
    "\n",
    "\n",
    "valor_venda = 124.80\n",
    "\n",
    "equivalencia_minima_meses = 24\n",
    "\n",
    "taxa_ir = 0.2"
   ]
  },
  {
   "cell_type": "code",
   "execution_count": 172,
   "metadata": {},
   "outputs": [
    {
     "name": "stdout",
     "output_type": "stream",
     "text": [
      "==================== Wesley ( MGFF ) ====================\n",
      "Cotas:\t\t\t\t\t 39\n",
      "Valor médio por cota:\t\t\tR$ 98.69\n",
      "Valor total compra:\t\t\tR$ 3848.91\n",
      "\n",
      "Valor de venda por cota:\t\tR$ 124.80\n",
      "Valor de venda Total:\t\t\tR$ 4663.54\n",
      "\n",
      "Lucro Bruto:\t\t\t\tR$ 1018.29\n",
      "IR:\t\t\t\t\tR$ 203.66\n",
      "Lucro Liquido:\t\t\t\tR$ 814.63 ( 21.17 % )\n",
      "Equivalência em meses de dividendos:\t 29.84\n",
      "\n",
      "Equivalência mínima em meses:\t\t 24\n",
      "Valor mínimo da cota para venda:\tR$ 119.69\n",
      "Lucro líquido previsto:\t\t\tR$ 655.20 ( 17.02 % )\n"
     ]
    }
   ],
   "source": [
    "renda_mensal = cotas * dividendo\n",
    "\n",
    "valor_compra_total = media_cota * cotas\n",
    "\n",
    "lucro_bruto = (valor_venda * cotas) - (valor_compra_total)\n",
    "\n",
    "lucro = ((valor_venda * cotas) - (valor_compra_total)) * (1 - taxa_ir)\n",
    "p_lucro = (lucro / valor_compra_total)*100\n",
    "\n",
    "ir = ((valor_venda * cotas) - (valor_compra_total)) * taxa_ir\n",
    "\n",
    "div_equ = lucro/(dividendo*cotas)\n",
    "\n",
    "valor_total_venda = valor_compra_total + lucro\n",
    "\n",
    "lucro_ideal = equivalencia_minima_meses * dividendo * cotas\n",
    "\n",
    "p_lucro_ideal = (lucro_ideal/valor_compra_total)*100\n",
    "\n",
    "valor_ideal_venda = ((lucro_ideal/(1 - taxa_ir))+valor_compra_total) / cotas\n",
    "\n",
    "\n",
    "print('====================', carteira,'(',fundo, ') ====================')\n",
    "print('Cotas:\\t\\t\\t\\t\\t', cotas)\n",
    "print('Valor médio por cota:\\t\\t\\tR$', '%.2f' % media_cota)\n",
    "print('Valor total compra:\\t\\t\\tR$', '%.2f' % valor_compra_total)\n",
    "\n",
    "print('\\nValor de venda por cota:\\t\\tR$', '%.2f' % valor_venda)\n",
    "print('Valor de venda Total:\\t\\t\\tR$', '%.2f' % valor_total_venda)\n",
    "\n",
    "print('\\nLucro Bruto:\\t\\t\\t\\tR$', '%.2f' % lucro_bruto)\n",
    "print('IR:\\t\\t\\t\\t\\tR$', '%.2f' % ir)\n",
    "print('Lucro Liquido:\\t\\t\\t\\tR$', '%.2f' % lucro, '(', '%.2f' % p_lucro,'% )')\n",
    "print('Equivalência em meses de dividendos:\\t', '%.2f' % div_equ)\n",
    "\n",
    "\n",
    "print('\\nEquivalência mínima em meses:\\t\\t', equivalencia_minima_meses)\n",
    "print('Valor mínimo da cota para venda:\\tR$', '%.2f' % valor_ideal_venda)\n",
    "print('Lucro líquido previsto:\\t\\t\\tR$', '%.2f' % lucro_ideal, '(', '%.2f' % p_lucro_ideal,'% )')"
   ]
  },
  {
   "cell_type": "code",
   "execution_count": null,
   "metadata": {},
   "outputs": [],
   "source": []
  }
 ],
 "metadata": {
  "kernelspec": {
   "display_name": "Python 3",
   "language": "python",
   "name": "python3"
  },
  "language_info": {
   "codemirror_mode": {
    "name": "ipython",
    "version": 3
   },
   "file_extension": ".py",
   "mimetype": "text/x-python",
   "name": "python",
   "nbconvert_exporter": "python",
   "pygments_lexer": "ipython3",
   "version": "3.7.3"
  }
 },
 "nbformat": 4,
 "nbformat_minor": 2
}
